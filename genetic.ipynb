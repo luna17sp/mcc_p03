{
 "cells": [
  {
   "cell_type": "markdown",
   "metadata": {
    "id": "z7nInL55vTxi"
   },
   "source": [
    "# Introduction\n",
    "Genetic algorithms work by iterating over generations of populations and evaluation how well these populations solve a problem. At the end of a generation, the best individuals are selected to produce the next generation.\n",
    "\n",
    "The code presented in this blog has been adapted from:\n",
    "\n",
    "\n",
    "**Zaccone G. (2019). Natural Computing with Python: Learn to implement genetic and evolutionary algorithms for problem solving in a pythonic way. BPB Publications.**\n",
    "\n"
   ]
  },
  {
   "cell_type": "markdown",
   "metadata": {
    "id": "rJxFpNyT3kMx"
   },
   "source": [
    "# Imports\n",
    "First we import all necessary modules."
   ]
  },
  {
   "cell_type": "code",
   "execution_count": 1,
   "metadata": {
    "id": "lNADfQ4m1_CT"
   },
   "outputs": [],
   "source": [
    "import numpy as np, random, operator, pandas as pd, matplotlib.pyplot as plt"
   ]
  },
  {
   "cell_type": "markdown",
   "metadata": {
    "id": "ViXnTe3z4FR5"
   },
   "source": [
    "# Data Representation\n",
    "Because we are going to work with the simplest form of the TSP, we need a way to represent the data:"
   ]
  },
  {
   "cell_type": "code",
   "execution_count": 2,
   "metadata": {
    "cellView": "code",
    "id": "ROLT-ZpA1CLC"
   },
   "outputs": [],
   "source": [
    "#Create class to handle \"cities\"\n",
    "\n",
    "class City:\n",
    "    def __init__(self,name, x, y):\n",
    "        self.name = name\n",
    "        self.x = x\n",
    "        self.y = y\n",
    "\n",
    "    def distance(self, city):\n",
    "        xDis = abs(self.x - city.x)\n",
    "        yDis = abs(self.y - city.y)\n",
    "        distance = np.sqrt((xDis ** 2) + (yDis ** 2))\n",
    "        return distance\n",
    "\n",
    "    def __repr__(self):\n",
    "        return \"(\" + str(self.name)+ \")\"\n"
   ]
  },
  {
   "cell_type": "markdown",
   "metadata": {
    "id": "gNEDY-zc4iMN"
   },
   "source": [
    "# How the algorithm works?"
   ]
  },
  {
   "cell_type": "markdown",
   "metadata": {
    "id": "hYM1BG7r5guj"
   },
   "source": [
    "## The concept of individual\n",
    "An individual can be seen as a single instance of the problem, for this case it's easy to see that the individual is the sequence of \"cities\" and the order that they are visited."
   ]
  },
  {
   "cell_type": "markdown",
   "metadata": {
    "id": "x1s3gUe54ufz"
   },
   "source": [
    "## Fitness\n",
    "Genetic algorithms mimic natural structures using the idea of \"Survival of the fittest\", so it's important to define a common fitness function for all individuals. For this case, the fitness of an individual is the sum of the distance for each pair of consecutive cities, including the sum of the last city in the sequence and the first (because TSP forms a loop).\n",
    ">$Fitness=[\\sum_{i=1}^{N-1} Distance(City_{i},City_{i+1})]+Distance(City_{N},City_{1})$\n",
    "\n",
    "This \"Distance\" function is just the euclidian distance between each city."
   ]
  },
  {
   "cell_type": "code",
   "execution_count": 3,
   "metadata": {
    "id": "zQegs4FO5dki"
   },
   "outputs": [],
   "source": [
    "#Create a fitness function\n",
    "\n",
    "class Fitness:\n",
    "    def __init__(self, route):\n",
    "        self.route = route\n",
    "        self.distance = 0\n",
    "        self.fitness= 0.0\n",
    "\n",
    "    def routeDistance(self):\n",
    "        if self.distance ==0:\n",
    "            pathDistance = 0\n",
    "            for i in range(0, len(self.route)):\n",
    "                fromCity = self.route[i]\n",
    "                toCity = None\n",
    "                if i + 1 < len(self.route):\n",
    "                    toCity = self.route[i + 1]\n",
    "                else:\n",
    "                    toCity = self.route[0]\n",
    "                pathDistance += fromCity.distance(toCity)\n",
    "            self.distance = pathDistance\n",
    "        return self.distance\n",
    "\n",
    "    def routeFitness(self):\n",
    "        if self.fitness == 0:\n",
    "            self.fitness = 1 / float(self.routeDistance())\n",
    "        return self.fitness"
   ]
  },
  {
   "cell_type": "markdown",
   "metadata": {
    "id": "wyC-WOKx8VxV"
   },
   "source": [
    "## Mutation and Breeding\n",
    "The algorithm creates the next generations using two methods, either mutating single individuals based on a probability, or \"mating\" two individual to create a new one. Here we define all necesarry functions to perform the algorithm."
   ]
  },
  {
   "cell_type": "code",
   "execution_count": 4,
   "metadata": {
    "id": "FuwftVHw81yz"
   },
   "outputs": [],
   "source": [
    "#Create our initial population\n",
    "#Route generator\n",
    "#This method randomizes the order of the cities, this mean that this method creates a random individual.\n",
    "def createRoute(cityList):\n",
    "    route = random.sample(cityList, len(cityList))\n",
    "    return route\n",
    "\n",
    "\n",
    "#Create first \"population\" (list of routes)\n",
    "#This method created a random population of the specified size.\n",
    "\n",
    "def initialPopulation(popSize, cityList):\n",
    "    population = []\n",
    "\n",
    "    for i in range(0, popSize):\n",
    "        population.append(createRoute(cityList))\n",
    "    return population\n",
    "\n",
    "\n",
    "#Create the genetic algorithm\n",
    "#Rank individuals\n",
    "#This function takes a population and orders it in descending order using the fitness of each individual\n",
    "def rankRoutes(population):\n",
    "    fitnessResults = {}\n",
    "    for i in range(0,len(population)):\n",
    "        fitnessResults[i] = Fitness(population[i]).routeFitness()\n",
    "    sorted_results=sorted(fitnessResults.items(), key = operator.itemgetter(1), reverse = True)\n",
    "    return sorted_results\n",
    "\n",
    "#Create a selection function that will be used to make the list of parent routes\n",
    "def selection(popRanked, eliteSize):\n",
    "    selectionResults = []\n",
    "    df = pd.DataFrame(np.array(popRanked), columns=[\"Index\",\"Fitness\"])\n",
    "    df['cum_sum'] = df.Fitness.cumsum()\n",
    "    df['cum_perc'] = 100*df.cum_sum/df.Fitness.sum()\n",
    "\n",
    "    for i in range(0, eliteSize):\n",
    "        selectionResults.append(popRanked[i][0])\n",
    "    for i in range(0, len(popRanked) - eliteSize):\n",
    "        pick = 100*random.random()\n",
    "        for i in range(0, len(popRanked)):\n",
    "            if pick <= df.iat[i,3]:\n",
    "                selectionResults.append(popRanked[i][0])\n",
    "                break\n",
    "    return selectionResults\n",
    "\n",
    "#Create mating pool\n",
    "def matingPool(population, selectionResults):\n",
    "    matingpool = []\n",
    "    for i in range(0, len(selectionResults)):\n",
    "        index = selectionResults[i]\n",
    "        matingpool.append(population[index])\n",
    "    return matingpool\n",
    "\n",
    "#Create a crossover function for two parents to create one child\n",
    "def breed(parent1, parent2):\n",
    "    child = []\n",
    "    childP1 = []\n",
    "    childP2 = []\n",
    "\n",
    "    geneA = int(random.random() * len(parent1))\n",
    "    geneB = int(random.random() * len(parent1))\n",
    "\n",
    "    startGene = min(geneA, geneB)\n",
    "    endGene = max(geneA, geneB)\n",
    "\n",
    "    for i in range(startGene, endGene):\n",
    "        childP1.append(parent1[i])\n",
    "\n",
    "\n",
    "    childP2 = [item for item in parent2 if item not in childP1]\n",
    "    # print(startGene, endGene)\n",
    "\n",
    "    # print(parent1)\n",
    "    # print(parent2)\n",
    "\n",
    "    # print(childP1)\n",
    "    # print(childP2)\n",
    "    child = childP1 + childP2\n",
    "\n",
    "    # print(child)\n",
    "    return child\n",
    "\n",
    "#Create function to run crossover over full mating pool\n",
    "\n",
    "def breedPopulation(matingpool, eliteSize):\n",
    "    children = []\n",
    "    length = len(matingpool) - eliteSize\n",
    "    pool = random.sample(matingpool, len(matingpool))\n",
    "\n",
    "    for i in range(0,eliteSize):\n",
    "        children.append(matingpool[i])\n",
    "\n",
    "    for i in range(0, length):\n",
    "        child = breed(pool[i], pool[len(matingpool)-i-1])\n",
    "        children.append(child)\n",
    "    return children\n",
    "\n",
    "\n",
    "\n",
    "\n",
    "#Create function to mutate a single route\n",
    "def mutate(individual, mutationRate):\n",
    "    for swapped in range(len(individual)):\n",
    "        if(random.random() < mutationRate):\n",
    "            swapWith = int(random.random() * len(individual))\n",
    "\n",
    "            city1 = individual[swapped]\n",
    "            city2 = individual[swapWith]\n",
    "\n",
    "            individual[swapped] = city2\n",
    "            individual[swapWith] = city1\n",
    "    return individual\n",
    "\n",
    "\n",
    "\n",
    "#Create function to run mutation over entire population\n",
    "\n",
    "def mutatePopulation(population, mutationRate):\n",
    "    mutatedPop = []\n",
    "\n",
    "    for ind in range(0, len(population)):\n",
    "        mutatedInd = mutate(population[ind], mutationRate)\n",
    "        mutatedPop.append(mutatedInd)\n",
    "    return mutatedPop\n",
    "\n",
    "\n",
    "\n",
    "#Put all steps together to create the next generation\n",
    "\n",
    "def nextGeneration(currentGen, eliteSize, mutationRate):\n",
    "    popRanked = rankRoutes(currentGen)\n",
    "    selectionResults = selection(popRanked, eliteSize)\n",
    "    matingpool = matingPool(currentGen, selectionResults)\n",
    "    children = breedPopulation(matingpool, eliteSize)\n",
    "    nextGeneration = mutatePopulation(children, mutationRate)\n",
    "    return nextGeneration"
   ]
  },
  {
   "cell_type": "markdown",
   "metadata": {
    "id": "8GdneBpn9QP6"
   },
   "source": [
    "## The genetic algorithm\n",
    "With all these function defined, all that is left is to write the definition of the genetic algorithm."
   ]
  },
  {
   "cell_type": "code",
   "execution_count": 5,
   "metadata": {
    "id": "qbYbvW739aE7"
   },
   "outputs": [],
   "source": [
    "#Final step: create the genetic algorithm\n",
    "def geneticAlgorithm(population, popSize, eliteSize, mutationRate, generations):\n",
    "    pop = initialPopulation(popSize, population)\n",
    "    progress = [1 / rankRoutes(pop)[0][1]]\n",
    "    print(\"Initial distance: \" + str(progress[0]))\n",
    "\n",
    "    for i in range(1, generations+1):\n",
    "\n",
    "        pop = nextGeneration(pop, eliteSize, mutationRate)\n",
    "        progress.append(1 / rankRoutes(pop)[0][1])\n",
    "        if i%50==0:\n",
    "          print('Generation '+str(i),\"Distance: \",progress[i])\n",
    "\n",
    "\n",
    "    bestRouteIndex = rankRoutes(pop)[0][0]\n",
    "    bestRoute = pop[bestRouteIndex]\n",
    "    plt.figure(figsize=(6, 4))\n",
    "    plt.plot(progress)\n",
    "    plt.ylabel('Distance')\n",
    "    plt.xlabel('Generation')\n",
    "    # plt.title('Best Fitness vs Generation')\n",
    "    plt.tight_layout()\n",
    "    plt.savefig(\"./fitness.jpg\", dpi=300)\n",
    "\n",
    "    plt.show()\n",
    "    \n",
    "\n",
    "    return bestRoute"
   ]
  },
  {
   "cell_type": "markdown",
   "metadata": {
    "id": "Zsu9Ln579pk2"
   },
   "source": [
    "## Testing\n",
    "Know we create a list of cities and run the algorithm, this should return the best route found in the last generation."
   ]
  },
  {
   "cell_type": "code",
   "execution_count": 6,
   "metadata": {
    "colab": {
     "base_uri": "https://localhost:8080/",
     "height": 1000
    },
    "id": "Qh7Hvfqb97MV",
    "outputId": "36eacb79-a71e-41c4-f8cf-dda0058515a6"
   },
   "outputs": [
    {
     "name": "stdout",
     "output_type": "stream",
     "text": [
      "Initial distance: 30.943618106339216\n",
      "Generation 50 Distance:  12.899583478495913\n",
      "Generation 100 Distance:  10.379429247665016\n",
      "Generation 150 Distance:  10.00892486663742\n",
      "Generation 200 Distance:  8.709282228483369\n",
      "Generation 250 Distance:  8.093139787889482\n",
      "Generation 300 Distance:  7.723630312089527\n",
      "Generation 350 Distance:  7.631225699471277\n",
      "Generation 400 Distance:  7.496550245580763\n",
      "Generation 450 Distance:  7.689874890110342\n",
      "Generation 500 Distance:  7.574429036459877\n"
     ]
    },
    {
     "data": {
      "image/png": "[encoded data removed]",
      "text/plain": [
       "<Figure size 600x400 with 1 Axes>"
      ]
     },
     "metadata": {},
     "output_type": "display_data"
    },
    {
     "data": {
      "image/png": "[encoded data removed]",
      "text/plain": [
       "<Figure size 600x400 with 1 Axes>"
      ]
     },
     "metadata": {},
     "output_type": "display_data"
    }
   ],
   "source": [
    "#Running the genetic algorithm\n",
    "#Create list of cities\n",
    "\n",
    "cityList = []\n",
    "\n",
    "# for i in range(0,25):\n",
    "#     cityList.append(City(name = i, x=int(random.random() * 200), y=int(random.random() * 200)))\n",
    "\n",
    "# Lectura del archivo\n",
    "file = './EESS_AQP_REDES.xlsx'\n",
    "df = pd.read_excel(file, sheet_name='TB_EESS')\n",
    "\n",
    "subset = df[df['red']==\"CAMANA CARAVELLI\"]\n",
    "\n",
    "for i in range(0,len(subset.index)):\n",
    "  cityList.append(City(name = i, x=subset['longitud'].values[i], y=subset['latitud'].values[i]))\n",
    "\n",
    "best_route=geneticAlgorithm(population=cityList, popSize=100, eliteSize=20, mutationRate=0.01, generations=500)\n",
    "x=[]\n",
    "y=[]\n",
    "for i in best_route:\n",
    "  x.append(i.x)\n",
    "  y.append(i.y)\n",
    "x.append(best_route[0].x)\n",
    "y.append(best_route[0].y)\n",
    "plt.figure(figsize=(6, 4))\n",
    "plt.plot(x, y, '--o')\n",
    "plt.xlabel('Longitud')\n",
    "plt.ylabel('Latitud')\n",
    "ax=plt.gca()\n",
    "# plt.title('Final Route Layout')\n",
    "bbox_props = dict(boxstyle=\"circle,pad=0.3\", fc='C0', ec=\"black\", lw=0.5)\n",
    "for i in range(1,len(cityList)+1):\n",
    "  ax.text(cityList[i-1].x, cityList[i-1].y, str(i), ha=\"center\", va=\"center\",\n",
    "            size=8,\n",
    "            bbox=bbox_props)\n",
    "plt.tight_layout()\n",
    "plt.savefig(\"./ruta.jpg\", dpi=300)\n",
    "plt.show()\n"
   ]
  },
  {
   "cell_type": "code",
   "execution_count": 7,
   "metadata": {
    "colab": {
     "base_uri": "https://localhost:8080/"
    },
    "id": "Inf3BQDk02m8",
    "outputId": "89d333c6-8e1c-4f1a-ec00-45907f36eff8",
    "tags": []
   },
   "outputs": [
    {
     "data": {
      "text/plain": [
       "[(35),\n",
       " (36),\n",
       " (21),\n",
       " (5),\n",
       " (27),\n",
       " (6),\n",
       " (24),\n",
       " (25),\n",
       " (31),\n",
       " (32),\n",
       " (8),\n",
       " (30),\n",
       " (29),\n",
       " (23),\n",
       " (26),\n",
       " (28),\n",
       " (33),\n",
       " (34),\n",
       " (0),\n",
       " (7),\n",
       " (38),\n",
       " (20),\n",
       " (19),\n",
       " (4),\n",
       " (1),\n",
       " (39),\n",
       " (15),\n",
       " (11),\n",
       " (12),\n",
       " (9),\n",
       " (16),\n",
       " (13),\n",
       " (10),\n",
       " (3),\n",
       " (14),\n",
       " (18),\n",
       " (37),\n",
       " (2),\n",
       " (17),\n",
       " (22)]"
      ]
     },
     "execution_count": 7,
     "metadata": {},
     "output_type": "execute_result"
    }
   ],
   "source": [
    "best_route"
   ]
  },
  {
   "cell_type": "code",
   "execution_count": 8,
   "metadata": {
    "tags": []
   },
   "outputs": [
    {
     "name": "stdout",
     "output_type": "stream",
     "text": [
      "35 : IQUIPI\n",
      "36 : PUESTO DE SALUD PIUCA\n",
      "21 : PUESTO DE SALUD URASQUI\n",
      "5 : CENTRO DE SALUD ATICO\n",
      "27 : ACHANIZO\n",
      "6 : CHALA\n",
      "24 : SANTA ROSA-CHALA\n",
      "25 : ATIQUIPA\n",
      "31 : PUESTO DE SALUD YAUCA\n",
      "32 : PUESTO DE SALUD LOMAS\n",
      "8 : CENTRO DE SALUD ACARI\n",
      "30 : PUESTO DE SALUD BELLA UNION\n",
      "29 : PUESTO DE SALUD JAQUI\n",
      "23 : TOCOTA\n",
      "26 : CHAPARRA\n",
      "28 : QUICACHA\n",
      "33 : PUESTO DE SALUD CAHUACHO\n",
      "34 : PUESTO DE SALUD AYROCA\n",
      "0 : PUESTO DE SALUD SONDOR - CARAVELI\n",
      "7 : CENTRO DE SALUD CARAVELI\n",
      "38 : PUESTO DE SALUD SECOCHA\n",
      "20 : PESCADORES\n",
      "19 : LA PLANCHADA\n",
      "4 : CENTRO DE SALUD OCOÑA\n",
      "1 : CENTRO DE SALUD SAN JOSE\n",
      "39 : CENTRO DE SALUD MENTAL COMUNITARIO CAMANA\n",
      "15 : JUAN PABLO VIZCARDO GUZMAN\n",
      "11 : EL CARDO\n",
      "12 : PUESTO DE SALUD EL PUENTE\n",
      "9 : CENTRO DE SALUD PUCCHUN\n",
      "16 : PUESTO DE SALUD HACIENDA DEL MEDIO\n",
      "13 : EL CARMEN-CAMANA\n",
      "10 : PUESTO DE SALUD LUIS FERNANDEZ CORTEGANA - HUACAPUY\n",
      "3 : CENTRO DE SALUD SAN GREGORIO\n",
      "14 : PUESTO DE SALUD LA PUNTA\n",
      "18 : PUESTO DE SALUD QUILCA\n",
      "37 : PUESTO DE SALUD SOLIDARIDAD\n",
      "2 : LA PAMPA\n",
      "17 : SONAY\n",
      "22 : LA EUGENIA\n"
     ]
    }
   ],
   "source": [
    "for i in best_route:\n",
    "  print(str(i)[1:-1] + \" : \" + subset.iloc[int(str(i)[1:-1])]['nombre'])"
   ]
  }
 ],
 "metadata": {
  "colab": {
   "provenance": []
  },
  "kernelspec": {
   "display_name": "Python 3 (ipykernel)",
   "language": "python",
   "name": "python3"
  },
  "language_info": {
   "codemirror_mode": {
    "name": "ipython",
    "version": 3
   },
   "file_extension": ".py",
   "mimetype": "text/x-python",
   "name": "python",
   "nbconvert_exporter": "python",
   "pygments_lexer": "ipython3",
   "version": "3.11.3"
  }
 },
 "nbformat": 4,
 "nbformat_minor": 4
}
